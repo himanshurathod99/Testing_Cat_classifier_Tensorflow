{
 "cells": [
  {
   "cell_type": "markdown",
   "metadata": {},
   "source": [
    "### Cat classifier Neural Network in TensorFlow"
   ]
  },
  {
   "cell_type": "markdown",
   "metadata": {},
   "source": [
    "#### Load dependencies"
   ]
  },
  {
   "cell_type": "code",
   "execution_count": 1,
   "metadata": {
    "collapsed": true
   },
   "outputs": [],
   "source": [
    "import numpy as np\n",
    "np.random.seed(42)\n",
    "import tensorflow as tf\n",
    "tf.set_random_seed(42)\n",
    "\n",
    "import h5py\n",
    "import matplotlib.pyplot as plt\n",
    "import scipy\n",
    "from PIL import Image\n",
    "from scipy import ndimage\n",
    "\n",
    "\n",
    "%matplotlib inline\n",
    "plt.rcParams['figure.figsize'] = (5.0, 4.0) # set default size of plots\n",
    "plt.rcParams['image.interpolation'] = 'nearest'\n",
    "plt.rcParams['image.cmap'] = 'gray'\n",
    "\n",
    "%load_ext autoreload\n",
    "%autoreload 2\n",
    "np.random.seed(1)\n",
    "\n"
   ]
  },
  {
   "cell_type": "markdown",
   "metadata": {},
   "source": [
    "#### Load data"
   ]
  },
  {
   "cell_type": "code",
   "execution_count": 2,
   "metadata": {
    "collapsed": false
   },
   "outputs": [],
   "source": [
    "#load data set\n",
    "from lr_utils import load_dataset\n",
    "train_x_orig, train_y, test_x_orig, test_y, classes = load_dataset()"
   ]
  },
  {
   "cell_type": "code",
   "execution_count": 3,
   "metadata": {
    "collapsed": false
   },
   "outputs": [
    {
     "name": "stdout",
     "output_type": "stream",
     "text": [
      "y = 1. It's a cat picture.\n"
     ]
    },
    {
     "data": {
      "image/png": "[encoded data removed]",
      "text/plain": [
       "<matplotlib.figure.Figure at 0xce4bf98>"
      ]
     },
     "metadata": {},
     "output_type": "display_data"
    }
   ],
   "source": [
    "index = 19\n",
    "plt.imshow(train_x_orig[index])\n",
    "print (\"y = \" + str(train_y[0,index]) + \". It's a \" + classes[train_y[0,index]].decode(\"utf-8\") +  \" picture.\")"
   ]
  },
  {
   "cell_type": "code",
   "execution_count": 4,
   "metadata": {
    "collapsed": true
   },
   "outputs": [],
   "source": [
    "X_train = train_x_orig.reshape(train_x_orig.shape[0], -1)\n",
    "X_train =np.divide(X_train, 255)\n",
    "Y_train =train_y.T"
   ]
  },
  {
   "cell_type": "code",
   "execution_count": 5,
   "metadata": {
    "collapsed": false
   },
   "outputs": [
    {
     "data": {
      "text/plain": [
       "((209, 12288), (209, 1))"
      ]
     },
     "execution_count": 5,
     "metadata": {},
     "output_type": "execute_result"
    }
   ],
   "source": [
    "X_train.shape, Y_train.shape"
   ]
  },
  {
   "cell_type": "code",
   "execution_count": 6,
   "metadata": {
    "collapsed": true
   },
   "outputs": [],
   "source": [
    "X_test = test_x_orig.reshape(test_x_orig.shape[0], -1)\n",
    "X_test=np.divide(X_test, 255)\n",
    "Y_test = test_y.T\n"
   ]
  },
  {
   "cell_type": "code",
   "execution_count": 7,
   "metadata": {
    "collapsed": false
   },
   "outputs": [
    {
     "data": {
      "text/plain": [
       "((50, 12288), (50, 1))"
      ]
     },
     "execution_count": 7,
     "metadata": {},
     "output_type": "execute_result"
    }
   ],
   "source": [
    "X_test.shape, Y_test.shape"
   ]
  },
  {
   "cell_type": "markdown",
   "metadata": {},
   "source": [
    "#### Set neural network hyperparameters"
   ]
  },
  {
   "cell_type": "code",
   "execution_count": 8,
   "metadata": {
    "collapsed": true
   },
   "outputs": [],
   "source": [
    "lr = 0.9\n",
    "epochs = 200\n",
    "weight_initializer = tf.contrib.layers.xavier_initializer()"
   ]
  },
  {
   "cell_type": "markdown",
   "metadata": {},
   "source": [
    "#### Set parameters for each layer"
   ]
  },
  {
   "cell_type": "code",
   "execution_count": 9,
   "metadata": {
    "collapsed": true
   },
   "outputs": [],
   "source": [
    "n_input = 12288\n",
    "n_dense_1 = 64\n",
    "n_dense_2 = 64\n",
    "n_classes = 1\n"
   ]
  },
  {
   "cell_type": "markdown",
   "metadata": {},
   "source": [
    "#### Define placeholder Tensors for inputs and labels"
   ]
  },
  {
   "cell_type": "code",
   "execution_count": 10,
   "metadata": {
    "collapsed": true
   },
   "outputs": [],
   "source": [
    "x = tf.placeholder(tf.float32, [None, n_input])\n",
    "y = tf.placeholder(tf.float32, [None,n_classes])"
   ]
  },
  {
   "cell_type": "markdown",
   "metadata": {},
   "source": [
    "#### Define dictionaries for storing weights and biases for each layer -- and initialize"
   ]
  },
  {
   "cell_type": "code",
   "execution_count": 11,
   "metadata": {
    "collapsed": false
   },
   "outputs": [],
   "source": [
    "bias_dict = {'b1': tf.Variable(tf.zeros([n_dense_1])), \n",
    "    'b2': tf.Variable(tf.zeros([n_dense_2])),\n",
    "    'b_out': tf.Variable(tf.zeros([n_classes]))\n",
    "}\n",
    "    \n",
    "\n",
    "\n",
    "weight_dict = {\n",
    "    'W1': tf.get_variable('W1', [n_input, n_dense_1], initializer=weight_initializer),\n",
    "    'W2': tf.get_variable('W2', [n_dense_1, n_dense_2], initializer=weight_initializer),\n",
    "    'W_out': tf.get_variable('W_out', [n_dense_2, n_classes], initializer=weight_initializer)\n",
    "}"
   ]
  },
  {
   "cell_type": "markdown",
   "metadata": {},
   "source": [
    "#### Define types of layers"
   ]
  },
  {
   "cell_type": "code",
   "execution_count": 12,
   "metadata": {
    "collapsed": true
   },
   "outputs": [],
   "source": [
    "# dense layer with ReLU activation:\n",
    "def dense(x, W, b):\n",
    "    z = tf.add(tf.matmul(x, W), b)\n",
    "    a = tf.nn.relu(z)\n",
    "    return a\n"
   ]
  },
  {
   "cell_type": "markdown",
   "metadata": {},
   "source": [
    "#### Design neural network architecture"
   ]
  },
  {
   "cell_type": "code",
   "execution_count": 13,
   "metadata": {
    "collapsed": true
   },
   "outputs": [],
   "source": [
    "def network(x, weights, biases):\n",
    "\n",
    "    # reshape linear MNIST pixel input into square image: \n",
    "    dense_1 = dense(x, weights['W1'], biases['b1'])\n",
    "    dense_2 = dense(dense_1, weights['W2'], biases['b2'])\n",
    "    \n",
    "    \n",
    "    # output layer: \n",
    "    out_layer_z = tf.nn.sigmoid(tf.add(tf.matmul(dense_2, weights['W_out']), biases['b_out']))\n",
    "    \n",
    "    return out_layer_z"
   ]
  },
  {
   "cell_type": "markdown",
   "metadata": {},
   "source": [
    "#### Build model"
   ]
  },
  {
   "cell_type": "code",
   "execution_count": 14,
   "metadata": {
    "collapsed": false
   },
   "outputs": [],
   "source": [
    "predictions = network(x, weights=weight_dict, biases=bias_dict)"
   ]
  },
  {
   "cell_type": "markdown",
   "metadata": {},
   "source": [
    "#### Define model's loss and its optimizer"
   ]
  },
  {
   "cell_type": "code",
   "execution_count": 15,
   "metadata": {
    "collapsed": false
   },
   "outputs": [],
   "source": [
    "cost = tf.reduce_mean(tf.nn.sigmoid_cross_entropy_with_logits(logits=predictions, labels=y))\n",
    "optimizer = tf.train.GradientDescentOptimizer(learning_rate=lr).minimize(cost)"
   ]
  },
  {
   "cell_type": "markdown",
   "metadata": {},
   "source": [
    "#### Define evaluation metrics"
   ]
  },
  {
   "cell_type": "code",
   "execution_count": 16,
   "metadata": {
    "collapsed": false
   },
   "outputs": [],
   "source": [
    "correct_prediction = tf.equal(tf.round(predictions),y )\n",
    "accuracy_pct = tf.reduce_mean(tf.cast(correct_prediction, tf.float32)) * 100"
   ]
  },
  {
   "cell_type": "markdown",
   "metadata": {},
   "source": [
    "#### Create op for variable initialization"
   ]
  },
  {
   "cell_type": "code",
   "execution_count": 17,
   "metadata": {
    "collapsed": true
   },
   "outputs": [],
   "source": [
    "initializer_op = tf.global_variables_initializer()"
   ]
  },
  {
   "cell_type": "markdown",
   "metadata": {},
   "source": [
    "#### Train the network in a session (identical to `intermediate_net_in_tensorflow.ipynb` except addition of `display_progress`)"
   ]
  },
  {
   "cell_type": "code",
   "execution_count": 18,
   "metadata": {
    "collapsed": false
   },
   "outputs": [
    {
     "name": "stdout",
     "output_type": "stream",
     "text": [
      "Training for 200 epochs.\n",
      "Epoch 001: cost = 0.786, accuracy = 61.72%\n",
      "Epoch 002: cost = 0.693, accuracy = 65.55%\n",
      "Epoch 003: cost = 0.693, accuracy = 65.55%\n",
      "Epoch 004: cost = 0.693, accuracy = 65.55%\n",
      "Epoch 005: cost = 0.693, accuracy = 65.55%\n",
      "Epoch 006: cost = 0.693, accuracy = 65.55%\n",
      "Epoch 007: cost = 0.693, accuracy = 65.55%\n",
      "Epoch 008: cost = 0.693, accuracy = 65.55%\n",
      "Epoch 009: cost = 0.693, accuracy = 65.55%\n",
      "Epoch 010: cost = 0.693, accuracy = 65.55%\n",
      "Epoch 011: cost = 0.693, accuracy = 65.55%\n",
      "Epoch 012: cost = 0.693, accuracy = 65.55%\n",
      "Epoch 013: cost = 0.693, accuracy = 65.55%\n",
      "Epoch 014: cost = 0.693, accuracy = 65.55%\n",
      "Epoch 015: cost = 0.693, accuracy = 65.55%\n",
      "Epoch 016: cost = 0.693, accuracy = 65.55%\n",
      "Epoch 017: cost = 0.693, accuracy = 65.55%\n",
      "Epoch 018: cost = 0.693, accuracy = 65.55%\n",
      "Epoch 019: cost = 0.693, accuracy = 65.55%\n",
      "Epoch 020: cost = 0.693, accuracy = 65.55%\n",
      "Epoch 021: cost = 0.693, accuracy = 65.55%\n",
      "Epoch 022: cost = 0.693, accuracy = 65.55%\n",
      "Epoch 023: cost = 0.693, accuracy = 65.55%\n",
      "Epoch 024: cost = 0.693, accuracy = 65.55%\n",
      "Epoch 025: cost = 0.693, accuracy = 65.55%\n",
      "Epoch 026: cost = 0.693, accuracy = 65.55%\n",
      "Epoch 027: cost = 0.693, accuracy = 65.55%\n",
      "Epoch 028: cost = 0.693, accuracy = 65.55%\n",
      "Epoch 029: cost = 0.693, accuracy = 65.55%\n",
      "Epoch 030: cost = 0.693, accuracy = 65.55%\n",
      "Epoch 031: cost = 0.693, accuracy = 65.55%\n",
      "Epoch 032: cost = 0.693, accuracy = 65.55%\n",
      "Epoch 033: cost = 0.693, accuracy = 65.55%\n",
      "Epoch 034: cost = 0.693, accuracy = 65.55%\n",
      "Epoch 035: cost = 0.693, accuracy = 65.55%\n",
      "Epoch 036: cost = 0.693, accuracy = 65.55%\n",
      "Epoch 037: cost = 0.693, accuracy = 65.55%\n",
      "Epoch 038: cost = 0.693, accuracy = 65.55%\n",
      "Epoch 039: cost = 0.693, accuracy = 65.55%\n",
      "Epoch 040: cost = 0.693, accuracy = 65.55%\n",
      "Epoch 041: cost = 0.693, accuracy = 65.55%\n",
      "Epoch 042: cost = 0.693, accuracy = 65.55%\n",
      "Epoch 043: cost = 0.693, accuracy = 65.55%\n",
      "Epoch 044: cost = 0.693, accuracy = 65.55%\n",
      "Epoch 045: cost = 0.693, accuracy = 65.55%\n",
      "Epoch 046: cost = 0.693, accuracy = 65.55%\n",
      "Epoch 047: cost = 0.693, accuracy = 65.55%\n",
      "Epoch 048: cost = 0.693, accuracy = 65.55%\n",
      "Epoch 049: cost = 0.693, accuracy = 65.55%\n",
      "Epoch 050: cost = 0.693, accuracy = 65.55%\n",
      "Epoch 051: cost = 0.693, accuracy = 65.55%\n",
      "Epoch 052: cost = 0.693, accuracy = 65.55%\n",
      "Epoch 053: cost = 0.693, accuracy = 65.55%\n",
      "Epoch 054: cost = 0.693, accuracy = 65.55%\n",
      "Epoch 055: cost = 0.693, accuracy = 65.55%\n",
      "Epoch 056: cost = 0.693, accuracy = 65.55%\n",
      "Epoch 057: cost = 0.693, accuracy = 65.55%\n",
      "Epoch 058: cost = 0.693, accuracy = 65.55%\n",
      "Epoch 059: cost = 0.693, accuracy = 65.55%\n",
      "Epoch 060: cost = 0.693, accuracy = 65.55%\n",
      "Epoch 061: cost = 0.693, accuracy = 65.55%\n",
      "Epoch 062: cost = 0.693, accuracy = 65.55%\n",
      "Epoch 063: cost = 0.693, accuracy = 65.55%\n",
      "Epoch 064: cost = 0.693, accuracy = 65.55%\n",
      "Epoch 065: cost = 0.693, accuracy = 65.55%\n",
      "Epoch 066: cost = 0.693, accuracy = 65.55%\n",
      "Epoch 067: cost = 0.693, accuracy = 65.55%\n",
      "Epoch 068: cost = 0.693, accuracy = 65.55%\n",
      "Epoch 069: cost = 0.693, accuracy = 65.55%\n",
      "Epoch 070: cost = 0.693, accuracy = 65.55%\n",
      "Epoch 071: cost = 0.693, accuracy = 65.55%\n",
      "Epoch 072: cost = 0.693, accuracy = 65.55%\n",
      "Epoch 073: cost = 0.693, accuracy = 65.55%\n",
      "Epoch 074: cost = 0.693, accuracy = 65.55%\n",
      "Epoch 075: cost = 0.693, accuracy = 65.55%\n",
      "Epoch 076: cost = 0.693, accuracy = 65.55%\n",
      "Epoch 077: cost = 0.693, accuracy = 65.55%\n",
      "Epoch 078: cost = 0.693, accuracy = 65.55%\n",
      "Epoch 079: cost = 0.693, accuracy = 65.55%\n",
      "Epoch 080: cost = 0.693, accuracy = 65.55%\n",
      "Epoch 081: cost = 0.693, accuracy = 65.55%\n",
      "Epoch 082: cost = 0.693, accuracy = 65.55%\n",
      "Epoch 083: cost = 0.693, accuracy = 65.55%\n",
      "Epoch 084: cost = 0.693, accuracy = 65.55%\n",
      "Epoch 085: cost = 0.693, accuracy = 65.55%\n",
      "Epoch 086: cost = 0.693, accuracy = 65.55%\n",
      "Epoch 087: cost = 0.693, accuracy = 65.55%\n",
      "Epoch 088: cost = 0.693, accuracy = 65.55%\n",
      "Epoch 089: cost = 0.693, accuracy = 65.55%\n",
      "Epoch 090: cost = 0.693, accuracy = 65.55%\n",
      "Epoch 091: cost = 0.693, accuracy = 65.55%\n",
      "Epoch 092: cost = 0.693, accuracy = 65.55%\n",
      "Epoch 093: cost = 0.693, accuracy = 65.55%\n",
      "Epoch 094: cost = 0.693, accuracy = 65.55%\n",
      "Epoch 095: cost = 0.693, accuracy = 65.55%\n",
      "Epoch 096: cost = 0.693, accuracy = 65.55%\n",
      "Epoch 097: cost = 0.693, accuracy = 65.55%\n",
      "Epoch 098: cost = 0.693, accuracy = 65.55%\n",
      "Epoch 099: cost = 0.693, accuracy = 65.55%\n",
      "Epoch 100: cost = 0.693, accuracy = 65.55%\n",
      "Epoch 101: cost = 0.693, accuracy = 65.55%\n",
      "Epoch 102: cost = 0.693, accuracy = 65.55%\n",
      "Epoch 103: cost = 0.693, accuracy = 65.55%\n",
      "Epoch 104: cost = 0.693, accuracy = 65.55%\n",
      "Epoch 105: cost = 0.693, accuracy = 65.55%\n",
      "Epoch 106: cost = 0.693, accuracy = 65.55%\n",
      "Epoch 107: cost = 0.693, accuracy = 65.55%\n",
      "Epoch 108: cost = 0.693, accuracy = 65.55%\n",
      "Epoch 109: cost = 0.693, accuracy = 65.55%\n",
      "Epoch 110: cost = 0.693, accuracy = 65.55%\n",
      "Epoch 111: cost = 0.693, accuracy = 65.55%\n",
      "Epoch 112: cost = 0.693, accuracy = 65.55%\n",
      "Epoch 113: cost = 0.693, accuracy = 65.55%\n",
      "Epoch 114: cost = 0.693, accuracy = 65.55%\n",
      "Epoch 115: cost = 0.693, accuracy = 65.55%\n",
      "Epoch 116: cost = 0.693, accuracy = 65.55%\n",
      "Epoch 117: cost = 0.693, accuracy = 65.55%\n",
      "Epoch 118: cost = 0.693, accuracy = 65.55%\n",
      "Epoch 119: cost = 0.693, accuracy = 65.55%\n",
      "Epoch 120: cost = 0.693, accuracy = 65.55%\n",
      "Epoch 121: cost = 0.693, accuracy = 65.55%\n",
      "Epoch 122: cost = 0.693, accuracy = 65.55%\n",
      "Epoch 123: cost = 0.693, accuracy = 65.55%\n",
      "Epoch 124: cost = 0.693, accuracy = 65.55%\n",
      "Epoch 125: cost = 0.693, accuracy = 65.55%\n",
      "Epoch 126: cost = 0.693, accuracy = 65.55%\n",
      "Epoch 127: cost = 0.693, accuracy = 65.55%\n",
      "Epoch 128: cost = 0.693, accuracy = 65.55%\n",
      "Epoch 129: cost = 0.693, accuracy = 65.55%\n",
      "Epoch 130: cost = 0.693, accuracy = 65.55%\n",
      "Epoch 131: cost = 0.693, accuracy = 65.55%\n",
      "Epoch 132: cost = 0.693, accuracy = 65.55%\n",
      "Epoch 133: cost = 0.693, accuracy = 65.55%\n",
      "Epoch 134: cost = 0.693, accuracy = 65.55%\n",
      "Epoch 135: cost = 0.693, accuracy = 65.55%\n",
      "Epoch 136: cost = 0.693, accuracy = 65.55%\n",
      "Epoch 137: cost = 0.693, accuracy = 65.55%\n",
      "Epoch 138: cost = 0.693, accuracy = 65.55%\n",
      "Epoch 139: cost = 0.693, accuracy = 65.55%\n",
      "Epoch 140: cost = 0.693, accuracy = 65.55%\n",
      "Epoch 141: cost = 0.693, accuracy = 65.55%\n",
      "Epoch 142: cost = 0.693, accuracy = 65.55%\n",
      "Epoch 143: cost = 0.693, accuracy = 65.55%\n",
      "Epoch 144: cost = 0.693, accuracy = 65.55%\n",
      "Epoch 145: cost = 0.693, accuracy = 65.55%\n",
      "Epoch 146: cost = 0.693, accuracy = 65.55%\n",
      "Epoch 147: cost = 0.693, accuracy = 65.55%\n",
      "Epoch 148: cost = 0.693, accuracy = 65.55%\n",
      "Epoch 149: cost = 0.693, accuracy = 65.55%\n",
      "Epoch 150: cost = 0.693, accuracy = 65.55%\n",
      "Epoch 151: cost = 0.693, accuracy = 65.55%\n",
      "Epoch 152: cost = 0.693, accuracy = 65.55%\n",
      "Epoch 153: cost = 0.693, accuracy = 65.55%\n",
      "Epoch 154: cost = 0.693, accuracy = 65.55%\n",
      "Epoch 155: cost = 0.693, accuracy = 65.55%\n",
      "Epoch 156: cost = 0.693, accuracy = 65.55%\n",
      "Epoch 157: cost = 0.693, accuracy = 65.55%\n",
      "Epoch 158: cost = 0.693, accuracy = 65.55%\n",
      "Epoch 159: cost = 0.693, accuracy = 65.55%\n",
      "Epoch 160: cost = 0.693, accuracy = 65.55%\n",
      "Epoch 161: cost = 0.693, accuracy = 65.55%\n",
      "Epoch 162: cost = 0.693, accuracy = 65.55%\n",
      "Epoch 163: cost = 0.693, accuracy = 65.55%\n",
      "Epoch 164: cost = 0.693, accuracy = 65.55%\n",
      "Epoch 165: cost = 0.693, accuracy = 65.55%\n",
      "Epoch 166: cost = 0.693, accuracy = 65.55%\n",
      "Epoch 167: cost = 0.693, accuracy = 65.55%\n",
      "Epoch 168: cost = 0.693, accuracy = 65.55%\n",
      "Epoch 169: cost = 0.693, accuracy = 65.55%\n",
      "Epoch 170: cost = 0.693, accuracy = 65.55%\n",
      "Epoch 171: cost = 0.693, accuracy = 65.55%\n",
      "Epoch 172: cost = 0.693, accuracy = 65.55%\n",
      "Epoch 173: cost = 0.693, accuracy = 65.55%\n",
      "Epoch 174: cost = 0.693, accuracy = 65.55%\n",
      "Epoch 175: cost = 0.693, accuracy = 65.55%\n",
      "Epoch 176: cost = 0.693, accuracy = 65.55%\n",
      "Epoch 177: cost = 0.693, accuracy = 65.55%\n",
      "Epoch 178: cost = 0.693, accuracy = 65.55%\n",
      "Epoch 179: cost = 0.693, accuracy = 65.55%\n",
      "Epoch 180: cost = 0.693, accuracy = 65.55%\n",
      "Epoch 181: cost = 0.693, accuracy = 65.55%\n",
      "Epoch 182: cost = 0.693, accuracy = 65.55%\n",
      "Epoch 183: cost = 0.693, accuracy = 65.55%\n",
      "Epoch 184: cost = 0.693, accuracy = 65.55%\n",
      "Epoch 185: cost = 0.693, accuracy = 65.55%\n",
      "Epoch 186: cost = 0.693, accuracy = 65.55%\n",
      "Epoch 187: cost = 0.693, accuracy = 65.55%\n",
      "Epoch 188: cost = 0.693, accuracy = 65.55%\n",
      "Epoch 189: cost = 0.693, accuracy = 65.55%\n",
      "Epoch 190: cost = 0.693, accuracy = 65.55%\n",
      "Epoch 191: cost = 0.693, accuracy = 65.55%\n",
      "Epoch 192: cost = 0.693, accuracy = 65.55%\n",
      "Epoch 193: cost = 0.693, accuracy = 65.55%\n",
      "Epoch 194: cost = 0.693, accuracy = 65.55%\n",
      "Epoch 195: cost = 0.693, accuracy = 65.55%\n",
      "Epoch 196: cost = 0.693, accuracy = 65.55%\n",
      "Epoch 197: cost = 0.693, accuracy = 65.55%\n",
      "Epoch 198: cost = 0.693, accuracy = 65.55%\n",
      "Epoch 199: cost = 0.693, accuracy = 65.55%\n",
      "Epoch 200: cost = 0.693, accuracy = 65.55%\n",
      "Training Complete. Testing Model.\n",
      "\n",
      "Test Cost: 0.693\n",
      "Test Accuracy: 34.00%\n"
     ]
    }
   ],
   "source": [
    "with tf.Session() as session:\n",
    "    session.run(initializer_op)\n",
    "    \n",
    "    print(\"Training for\", epochs, \"epochs.\")\n",
    "    \n",
    "    # loop over epochs: \n",
    "    for epoch in range(epochs):\n",
    "        \n",
    "\n",
    "            \n",
    "            # feed batch data to run optimization and fetching cost and accuracy: \n",
    "        _, cost_score, accuracy = session.run([optimizer, cost, accuracy_pct], \n",
    "                                                   feed_dict={x: X_train, y: Y_train})\n",
    "            \n",
    "           \n",
    "            \n",
    "        # output logs at end of each epoch of training:\n",
    "        print(\"Epoch \", '%03d' % (epoch+1), \n",
    "              \": cost = \", '{:.3f}'.format(cost_score), \n",
    "              \", accuracy = \", '{:.2f}'.format(accuracy), \"%\", \n",
    "              sep='')\n",
    "    \n",
    "    print(\"Training Complete. Testing Model.\\n\")\n",
    "    \n",
    "    test_cost = cost.eval({x: X_test, y: Y_test})\n",
    "    test_accuracy_pct = accuracy_pct.eval({x: X_test, y: Y_test})\n",
    "    \n",
    "    print(\"Test Cost:\", '{:.3f}'.format(test_cost))\n",
    "    print(\"Test Accuracy: \", '{:.2f}'.format(test_accuracy_pct), \"%\", sep='')"
   ]
  },
  {
   "cell_type": "code",
   "execution_count": null,
   "metadata": {
    "collapsed": true
   },
   "outputs": [],
   "source": [
    "#### Compare with LeNet Keras results"
   ]
  },
  {
   "cell_type": "markdown",
   "metadata": {
    "collapsed": true
   },
   "source": [
    "#### Increase dropout probability(/ies) or add dropout to other conv layer? Stop earlier? Coming up in Lecture 5 :)"
   ]
  },
  {
   "cell_type": "code",
   "execution_count": null,
   "metadata": {
    "collapsed": true
   },
   "outputs": [],
   "source": []
  },
  {
   "cell_type": "code",
   "execution_count": null,
   "metadata": {
    "collapsed": true
   },
   "outputs": [],
   "source": []
  },
  {
   "cell_type": "markdown",
   "metadata": {},
   "source": [
    "#### As an exercise, try converting our [AlexNet](https://github.com/the-deep-learners/TensorFlow-LiveLessons/blob/master/notebooks/alexnet_in_keras.ipynb) from Keras to TensorFlow following the same style as this LeNet-5 notebook. "
   ]
  },
  {
   "cell_type": "code",
   "execution_count": null,
   "metadata": {
    "collapsed": true
   },
   "outputs": [],
   "source": []
  }
 ],
 "metadata": {
  "kernelspec": {
   "display_name": "Python 3",
   "language": "python",
   "name": "python3"
  },
  "language_info": {
   "codemirror_mode": {
    "name": "ipython",
    "version": 3
   },
   "file_extension": ".py",
   "mimetype": "text/x-python",
   "name": "python",
   "nbconvert_exporter": "python",
   "pygments_lexer": "ipython3",
   "version": "3.6.0"
  }
 },
 "nbformat": 4,
 "nbformat_minor": 2
}
